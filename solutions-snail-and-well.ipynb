{
 "cells": [
  {
   "cell_type": "code",
   "execution_count": 1,
   "metadata": {},
   "outputs": [],
   "source": [
    "days = 0\n",
    "well = 125\n",
    "daily_advance = 30\n",
    "night_retreat = -20\n",
    "accumulated_distance =0"
   ]
  },
  {
   "cell_type": "code",
   "execution_count": 2,
   "metadata": {},
   "outputs": [
    {
     "name": "stdout",
     "output_type": "stream",
     "text": [
      "Days = 11\n"
     ]
    }
   ],
   "source": [
    "while accumulated_distance < well:\n",
    "  accumulated_distance += daily_advance\n",
    "  if accumulated_distance < well:\n",
    "    accumulated_distance += night_retreat\n",
    "  days +=1\n",
    "print('Days =', days)"
   ]
  },
  {
   "cell_type": "code",
   "execution_count": 3,
   "metadata": {},
   "outputs": [],
   "source": [
    "#BONUS\n",
    "advance_cm = [30, 21, 33, 77, 44, 45, 23, 45, 12, 34, 55]\n",
    "days=0\n",
    "well = 125\n",
    "night_retreat = -20\n",
    "accumulated_distance =0"
   ]
  },
  {
   "cell_type": "code",
   "execution_count": 4,
   "metadata": {},
   "outputs": [
    {
     "name": "stdout",
     "output_type": "stream",
     "text": [
      "Days = 6\n"
     ]
    }
   ],
   "source": [
    "for cm in advance_cm: \n",
    "  accumulated_distance += cm\n",
    "  if accumulated_distance > well:\n",
    "    days +=1\n",
    "    break\n",
    "  else:\n",
    "    accumulated_distance += night_retreat \n",
    "    days +=1\n",
    "      \n",
    "print('Days =', days)"
   ]
  },
  {
   "cell_type": "code",
   "execution_count": 5,
   "metadata": {},
   "outputs": [
    {
     "name": "stdout",
     "output_type": "stream",
     "text": [
      "El máximo es = 77\n",
      "El mínimo es = 12\n"
     ]
    }
   ],
   "source": [
    "max_perday = max(advance_cm)\n",
    "min_perday= min(advance_cm)\n",
    "print('El máximo es =', max_perday)\n",
    "print('El mínimo es =', min_perday) "
   ]
  },
  {
   "cell_type": "code",
   "execution_count": 6,
   "metadata": {},
   "outputs": [
    {
     "name": "stdout",
     "output_type": "stream",
     "text": [
      "La media es = 38.09090909090909\n"
     ]
    }
   ],
   "source": [
    "average= sum(advance_cm)/len(advance_cm)\n",
    "print('La media es =', average)"
   ]
  },
  {
   "cell_type": "code",
   "execution_count": 7,
   "metadata": {},
   "outputs": [
    {
     "name": "stdout",
     "output_type": "stream",
     "text": [
      "17.159437082600803\n"
     ]
    }
   ],
   "source": [
    "import numpy as np \n",
    "\n",
    "std = np.std(advance_cm)\n",
    "print(std)"
   ]
  },
  {
   "cell_type": "code",
   "execution_count": null,
   "metadata": {},
   "outputs": [],
   "source": []
  }
 ],
 "metadata": {
  "kernelspec": {
   "display_name": "Python 3",
   "language": "python",
   "name": "python3"
  },
  "language_info": {
   "codemirror_mode": {
    "name": "ipython",
    "version": 3
   },
   "file_extension": ".py",
   "mimetype": "text/x-python",
   "name": "python",
   "nbconvert_exporter": "python",
   "pygments_lexer": "ipython3",
   "version": "3.5.2"
  }
 },
 "nbformat": 4,
 "nbformat_minor": 2
}
