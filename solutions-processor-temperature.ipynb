{
 "cells": [
  {
   "cell_type": "code",
   "execution_count": 1,
   "metadata": {},
   "outputs": [
    {
     "name": "stdout",
     "output_type": "stream",
     "text": [
      "La temperatura mínima es 0\n",
      "La temperatura máxima es 90\n",
      "Temperaturas mayores o igual a 70ºC son:  [70, 76, 80, 81, 80, 83, 90, 79]\n",
      "La temperatura media es 60.25\n"
     ]
    }
   ],
   "source": [
    "temperatures_C = [33,66,65,0,59,60,62,64,70,76,80,81,80,83,90,79,61,53,50,49,53,48,45,39]\n",
    "print('La temperatura mínima es', min(temperatures_C))\n",
    "print('La temperatura máxima es', max(temperatures_C))\n",
    "\n",
    "over70 = [x for x in temperatures_C if x>=70]\n",
    "print('Temperaturas mayores o igual a 70ºC son: ', over70)\n",
    "\n",
    "print('La temperatura media es', sum(temperatures_C)/len(temperatures_C))"
   ]
  },
  {
   "cell_type": "code",
   "execution_count": 2,
   "metadata": {},
   "outputs": [
    {
     "name": "stdout",
     "output_type": "stream",
     "text": [
      "La temperatura estimada a las 3:00 sería 62.0\n"
     ]
    }
   ],
   "source": [
    "temperatures_C[3]= (temperatures_C[2]+ temperatures_C[4])/2\n",
    "print('La temperatura estimada a las 3:00 sería',temperatures_C[3])"
   ]
  },
  {
   "cell_type": "code",
   "execution_count": 3,
   "metadata": {},
   "outputs": [
    {
     "name": "stdout",
     "output_type": "stream",
     "text": [
      "Las temperaturas corregidas son: [33, 66, 65, 62.0, 59, 60, 62, 64, 70, 76, 80, 81, 80, 83, 90, 79, 61, 53, 50, 49, 53, 48, 45, 39]\n"
     ]
    }
   ],
   "source": [
    "print('Las temperaturas corregidas son:',temperatures_C)"
   ]
  },
  {
   "cell_type": "code",
   "execution_count": 4,
   "metadata": {},
   "outputs": [
    {
     "name": "stdout",
     "output_type": "stream",
     "text": [
      "Temperatura en grados F:  [91.4, 150.8, 149.0, 143.60000000000002, 138.2, 140.0, 143.60000000000002, 147.2, 158.0, 168.8, 176.0, 177.8, 176.0, 181.4, 194.0, 174.20000000000002, 141.8, 127.4, 122.0, 120.2, 127.4, 118.4, 113.0, 102.2]\n"
     ]
    }
   ],
   "source": [
    "temperatures_C[3]=62.0\n",
    "temperatures_f=[]\n",
    "for g in temperatures_C:\n",
    "  g = (g * 1.8) +32\n",
    "  temperatures_f.append(g)\n",
    "\n",
    "print('Temperatura en grados F: ',temperatures_f)"
   ]
  },
  {
   "cell_type": "code",
   "execution_count": null,
   "metadata": {},
   "outputs": [],
   "source": []
  },
  {
   "cell_type": "code",
   "execution_count": 10,
   "metadata": {},
   "outputs": [
    {
     "name": "stdout",
     "output_type": "stream",
     "text": [
      "True - Hay que cambiar el sistema de refrigeración.\n"
     ]
    }
   ],
   "source": [
    "if len(over70)> 4 or sum(temperatures_C)/len(temperatures_C) > 65 or max(temperatures_C) > 80:\n",
    "  print(True,'- Hay que cambiar el sistema de refrigeración.')\n",
    "\n",
    "\n",
    "\n"
   ]
  },
  {
   "cell_type": "code",
   "execution_count": 11,
   "metadata": {},
   "outputs": [
    {
     "name": "stdout",
     "output_type": "stream",
     "text": [
      "Las horas con temperaturas mayores o igual a 70ºC son [8, 9, 10, 11, 10, 13, 14, 15]\n",
      "True\n"
     ]
    }
   ],
   "source": [
    "over70_index = [temperatures_C.index(x) for x in temperatures_C if x>=70]\n",
    "print('Las horas con temperaturas mayores o igual a 70ºC son', over70_index)\n",
    "\n",
    "together= list(zip(over70_index, over70_index[1::],over70_index[2::],over70_index[3::]))\n",
    "\n",
    "for i,j,k,l in together:\n",
    "  if i==j-1==k-2==l-3:\n",
    "    print(True)"
   ]
  },
  {
   "cell_type": "code",
   "execution_count": 12,
   "metadata": {},
   "outputs": [
    {
     "name": "stdout",
     "output_type": "stream",
     "text": [
      "La standard deviation es 14.633485192833897\n",
      "La standard deviation es 26.34027334710101\n"
     ]
    }
   ],
   "source": [
    "import numpy as np \n",
    "\n",
    "std_c = np.std(temperatures_C)\n",
    "print('La standard deviation es', std_c)\n",
    "\n",
    "std_f = np.std(temperatures_f)\n",
    "print('La standard deviation es', std_f)"
   ]
  },
  {
   "cell_type": "code",
   "execution_count": null,
   "metadata": {},
   "outputs": [],
   "source": []
  }
 ],
 "metadata": {
  "kernelspec": {
   "display_name": "Python 3",
   "language": "python",
   "name": "python3"
  },
  "language_info": {
   "codemirror_mode": {
    "name": "ipython",
    "version": 3
   },
   "file_extension": ".py",
   "mimetype": "text/x-python",
   "name": "python",
   "nbconvert_exporter": "python",
   "pygments_lexer": "ipython3",
   "version": "3.5.2"
  }
 },
 "nbformat": 4,
 "nbformat_minor": 2
}
