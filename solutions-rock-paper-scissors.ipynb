{
 "cells": [
  {
   "cell_type": "code",
   "execution_count": 1,
   "metadata": {},
   "outputs": [],
   "source": [
    "import random\n",
    "game=['piedra','papel','tijera']"
   ]
  },
  {
   "cell_type": "code",
   "execution_count": 2,
   "metadata": {},
   "outputs": [],
   "source": [
    "def skynet():\n",
    "    return random.choice(game)"
   ]
  },
  {
   "cell_type": "code",
   "execution_count": 3,
   "metadata": {},
   "outputs": [],
   "source": [
    "def human_player():\n",
    "  player2 = (input('>>> ¿Piedra, papel o tijera? ')).lower()\n",
    "  while player2 not in game:\n",
    "    print('Introduce correctamenta una de las opciones')\n",
    "    player2 = (input('>>> ¿Piedra, papel o tijera? ')).lower() \n",
    "  return player2"
   ]
  },
  {
   "cell_type": "code",
   "execution_count": 4,
   "metadata": {},
   "outputs": [],
   "source": [
    "#print(human_player())"
   ]
  },
  {
   "cell_type": "code",
   "execution_count": 5,
   "metadata": {},
   "outputs": [],
   "source": [
    "def partida():\n",
    "  skynetscore = 0\n",
    "  humanoscore = 0 \n",
    "  maximo_juegos=0\n",
    "  x= '¡Minipunto para Skynet!'\n",
    "  y= '¡Minipunto para el humano!'\n",
    "  def comovan():\n",
    "        print('Skynet %s - Humano %s' % (skynetscore,humanoscore))\n",
    "  \n",
    "  while maximo_juegos<3:\n",
    "    a = human_player()\n",
    "    b = skynet()\n",
    "    print('HUMANO: ', a)\n",
    "    print('SKYNET: ', b)\n",
    "    maximo_juegos +=1\n",
    "    \n",
    "   \n",
    "    if a == b:\n",
    "        print('Está empatada la cosa...')              \n",
    "    \n",
    "    elif a=='tijera': \n",
    "        if b=='papel':\n",
    "            print(y)\n",
    "            humanoscore +=1\n",
    "        elif b=='piedra':\n",
    "            print(x)\n",
    "            skynetscore +=1\n",
    "                 \n",
    "    elif a=='papel':\n",
    "        if b=='piedra':\n",
    "            print(y)\n",
    "            humanoscore +=1        \n",
    "        elif b=='tijera':\n",
    "            print(x)\n",
    "            skynetscore +=1\n",
    "    \n",
    "    elif a=='piedra':\n",
    "        if b=='tijera':\n",
    "            print(y)\n",
    "            humanoscore +=1           \n",
    "        elif b=='papel':\n",
    "            print(x)\n",
    "            skynetscore +=1\n",
    "\n",
    "  if skynetscore > humanoscore:\n",
    "        return 1\n",
    "  elif skynetscore < humanoscore:\n",
    "        return 2\n",
    "  elif skynetscore == humanoscore:\n",
    "        return 0"
   ]
  },
  {
   "cell_type": "code",
   "execution_count": 6,
   "metadata": {},
   "outputs": [],
   "source": [
    "def resultado():\n",
    "    ganador = partida() \n",
    "    ac = \"Skynet ha ganado ¡Es el día del juicio final!\"\n",
    "    ba = \"El humano ha ganado\"\n",
    "    ce = \"Ha habido un empate, menudo bluf\"\n",
    "    if ganador == 2:\n",
    "        print(ba)\n",
    "    elif ganador == 1:\n",
    "        print(ac)\n",
    "    else:\n",
    "        print(ce) "
   ]
  },
  {
   "cell_type": "code",
   "execution_count": 7,
   "metadata": {},
   "outputs": [
    {
     "name": "stdout",
     "output_type": "stream",
     "text": [
      ">>> ¿Piedra, papel o tijera? tijera\n",
      "HUMANO:  tijera\n",
      "SKYNET:  tijera\n",
      "Está empatada la cosa...\n",
      ">>> ¿Piedra, papel o tijera? papel\n",
      "HUMANO:  papel\n",
      "SKYNET:  piedra\n",
      "¡Minipunto para el humano!\n",
      ">>> ¿Piedra, papel o tijera? tijera\n",
      "HUMANO:  tijera\n",
      "SKYNET:  papel\n",
      "¡Minipunto para el humano!\n",
      "El humano ha ganado\n"
     ]
    }
   ],
   "source": [
    "resultado()"
   ]
  },
  {
   "cell_type": "code",
   "execution_count": null,
   "metadata": {},
   "outputs": [],
   "source": []
  },
  {
   "cell_type": "code",
   "execution_count": null,
   "metadata": {},
   "outputs": [],
   "source": []
  }
 ],
 "metadata": {
  "kernelspec": {
   "display_name": "Python 3",
   "language": "python",
   "name": "python3"
  },
  "language_info": {
   "codemirror_mode": {
    "name": "ipython",
    "version": 3
   },
   "file_extension": ".py",
   "mimetype": "text/x-python",
   "name": "python",
   "nbconvert_exporter": "python",
   "pygments_lexer": "ipython3",
   "version": "3.5.2"
  }
 },
 "nbformat": 4,
 "nbformat_minor": 2
}
