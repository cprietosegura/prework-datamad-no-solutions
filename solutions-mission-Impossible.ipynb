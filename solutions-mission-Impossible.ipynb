{
 "cells": [
  {
   "cell_type": "code",
   "execution_count": 2,
   "metadata": {},
   "outputs": [
    {
     "name": "stdout",
     "output_type": "stream",
     "text": [
      "Los picos de volumen por encima de 10 dbs son [23, 20, 15, 40, 15]\n"
     ]
    }
   ],
   "source": [
    "dbs = [0, 1, 0, 0, 0, 0, 1, 0, 1, 23, 1, 0, 1, 1, 0, 0, 0, \n",
    "       1, 1, 0, 20, 1, 1, 15, 1, 0, 0, 0, 40, 15, 0, 0]\n",
    "\n",
    "high_vol= [n for n in dbs if n>10]\n",
    "print('Los picos de volumen por encima de 10 dbs son', high_vol)    "
   ]
  },
  {
   "cell_type": "code",
   "execution_count": 4,
   "metadata": {},
   "outputs": [
    {
     "name": "stdout",
     "output_type": "stream",
     "text": [
      "[(0, 0), (1, 1), (2, 0), (3, 0), (4, 0), (5, 0), (6, 1), (7, 0), (8, 1), (9, 23), (10, 1), (11, 0), (12, 1), (13, 1), (14, 0), (15, 0), (16, 0), (17, 1), (18, 1), (19, 0), (20, 20), (21, 1), (22, 1), (23, 15), (24, 1), (25, 0), (26, 0), (27, 0), (28, 40), (29, 15), (30, 0), (31, 0)]\n",
      "Los index de valores superiores a 10dbs son: [9, 20, 23, 28, 29]\n"
     ]
    }
   ],
   "source": [
    "enum_dbs= list(enumerate(dbs))\n",
    "print(enum_dbs)\n",
    "high_index=[]\n",
    "for pair in enum_dbs:\n",
    "     if pair[1]>10:\n",
    "      high_index.append(pair[0])\n",
    "\n",
    "print('Los index de valores superiores a 10dbs son:', high_index)"
   ]
  },
  {
   "cell_type": "code",
   "execution_count": 5,
   "metadata": {},
   "outputs": [
    {
     "name": "stdout",
     "output_type": "stream",
     "text": [
      "[(9, 23), (20, 20), (23, 15), (28, 40), (29, 15)]\n",
      "Alarm!\n"
     ]
    }
   ],
   "source": [
    "juntas=list(zip(high_index,high_vol))\n",
    "print(juntas)\n",
    "\n",
    "dbs_juntas=(zip(dbs,dbs[1::]))\n",
    "\n",
    "for x,n in dbs_juntas:\n",
    "  if x>10 and n>10:\n",
    "    print('Alarm!')"
   ]
  },
  {
   "cell_type": "code",
   "execution_count": 6,
   "metadata": {},
   "outputs": [
    {
     "name": "stdout",
     "output_type": "stream",
     "text": [
      "Pre_hacking: [0, 1, 0, 0, 0, 0, 1, 0, 1, 23, 1, 0, 1, 1, 0, 0, 0, 1, 1, 0, 20, 1, 1, 15, 1, 0, 0, 0, 40, 15, 0, 0]\n",
      "Post_hacking: [0, 1, 0, 0, 0, 0, 1, 0, 1, 11, 1, 0, 1, 1, 0, 0, 0, 1, 1, 0, 20, 1, 1, 15, 1, 0, 0, 0, 22, 15, 0, 0]\n"
     ]
    }
   ],
   "source": [
    "#BONUS\n",
    "Pre_hacking=[0, 1, 0, 0, 0, 0, 1, 0, 1, 23, 1, 0, 1, 1, 0, 0, 0, 1, 1, 0, 20, 1, 1, 15, 1, 0, 0, 0, 40, 15, 0, 0]\n",
    "print('Pre_hacking:', Pre_hacking)\n",
    "Post_hacking=[]\n",
    "\n",
    "for d in Pre_hacking:\n",
    "  if d > 20 and d<30:\n",
    "    Post_hacking.append(d-12)\n",
    "  elif d > 30:\n",
    "    Post_hacking.append(d-18)\n",
    "  else:\n",
    "    Post_hacking.append(d)\n",
    "print('Post_hacking:', Post_hacking)"
   ]
  },
  {
   "cell_type": "code",
   "execution_count": null,
   "metadata": {},
   "outputs": [],
   "source": []
  }
 ],
 "metadata": {
  "kernelspec": {
   "display_name": "Python 3",
   "language": "python",
   "name": "python3"
  },
  "language_info": {
   "codemirror_mode": {
    "name": "ipython",
    "version": 3
   },
   "file_extension": ".py",
   "mimetype": "text/x-python",
   "name": "python",
   "nbconvert_exporter": "python",
   "pygments_lexer": "ipython3",
   "version": "3.5.2"
  }
 },
 "nbformat": 4,
 "nbformat_minor": 2
}
