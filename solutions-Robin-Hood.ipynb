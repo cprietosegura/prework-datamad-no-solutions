{
 "cells": [
  {
   "cell_type": "code",
   "execution_count": 3,
   "metadata": {},
   "outputs": [
    {
     "name": "stdout",
     "output_type": "stream",
     "text": [
      "True , Robin Hood always hits an arrow with another arrow.\n",
      "La distribución de puntos por cuadrantes es: (10, 6, 2, 2)\n"
     ]
    }
   ],
   "source": [
    "points = [(4, 5), (0, 2), (4, 7), (1, -3), (3, -2), (4, 5),\n",
    "          (3, 2), (5, 7), (-5, 7), (2, 2), (-4, 5), (0, -2),\n",
    "          (-4, 7), (-1, 3), (-3, 2), (-4, -5), (-3, 2),\n",
    "          (5, 7), (5, 7), (2, 2), (9, 9), (-8, -9)]\n",
    "cuenta=[points.count(p) for p in points]\n",
    "if max(cuenta)>1:\n",
    "        print(True,', Robin Hood always hits an arrow with another arrow.')\n",
    "\n",
    "Q1=sum([1 for point in points if point[0] > 0 and point[1]> 0])\n",
    "Q2=sum([1 for point in points if point[0] < 0 and point[1]> 0])\n",
    "Q3=sum([1 for point in points if point[0] < 0 and point[1]< 0])\n",
    "Q4=sum([1 for point in points if point[0] > 0 and point[1]< 0])\n",
    "\n",
    "diana= Q1,Q2,Q3,Q4\n",
    "\n",
    "print('La distribución de puntos por cuadrantes es:', diana)"
   ]
  },
  {
   "cell_type": "code",
   "execution_count": 14,
   "metadata": {},
   "outputs": [],
   "source": [
    "import math\n",
    "from functools import partial\n",
    "\n",
    "def distance_between_points(a, b):\n",
    "    ax, ay = a\n",
    "    bx, by = b\n",
    "    return math.sqrt(pow(ax - bx, 2) + pow(ay - by, 2))\n",
    "\n",
    "def nearest(point, more_points):\n",
    "    '''\n",
    "    Finds the nearest point to the base point\n",
    "    '''\n",
    "    distance_to_point = partial(distance_between_points, point)\n",
    "    return min(more_points, key=distance_to_point)"
   ]
  },
  {
   "cell_type": "code",
   "execution_count": 15,
   "metadata": {},
   "outputs": [
    {
     "name": "stdout",
     "output_type": "stream",
     "text": [
      "The point closest to the center is (0, 2)\n",
      "La distancia al centro es 2.0\n"
     ]
    }
   ],
   "source": [
    "point = (0, 0)\n",
    "n = nearest(point, points)\n",
    "print('The point closest to the center is',n)\n",
    "\n",
    "print('La distancia al centro es', (distance_between_points(point, n)))"
   ]
  },
  {
   "cell_type": "code",
   "execution_count": 16,
   "metadata": {},
   "outputs": [
    {
     "name": "stdout",
     "output_type": "stream",
     "text": [
      "[(9, 9), (-8, -9)]\n",
      "Las flechas encontradas en el bosque son 2\n"
     ]
    }
   ],
   "source": [
    "fuera_diana=[]\n",
    "\n",
    "for point in points:\n",
    "  for n in point:\n",
    "    if abs(n)>=9:\n",
    "      fuera_diana.append(point)\n",
    "    \n",
    "fuera_diana=list(set(fuera_diana))\n",
    "print(fuera_diana)\n",
    "print('Las flechas encontradas en el bosque son',len(fuera_diana))"
   ]
  },
  {
   "cell_type": "code",
   "execution_count": null,
   "metadata": {},
   "outputs": [],
   "source": []
  }
 ],
 "metadata": {
  "kernelspec": {
   "display_name": "Python 3",
   "language": "python",
   "name": "python3"
  },
  "language_info": {
   "codemirror_mode": {
    "name": "ipython",
    "version": 3
   },
   "file_extension": ".py",
   "mimetype": "text/x-python",
   "name": "python",
   "nbconvert_exporter": "python",
   "pygments_lexer": "ipython3",
   "version": "3.5.2"
  }
 },
 "nbformat": 4,
 "nbformat_minor": 2
}
