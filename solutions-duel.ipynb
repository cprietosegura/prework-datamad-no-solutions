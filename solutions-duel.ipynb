{
 "cells": [
  {
   "cell_type": "code",
   "execution_count": 1,
   "metadata": {},
   "outputs": [],
   "source": [
    "gandalf = [10, 11, 13, 30, 22, 11, 10, 33, 22, 22]\n",
    "saruman = [23, 66, 12, 43, 12, 10, 44, 23, 12, 17]"
   ]
  },
  {
   "cell_type": "code",
   "execution_count": 2,
   "metadata": {},
   "outputs": [
    {
     "name": "stdout",
     "output_type": "stream",
     "text": [
      "[(10, 23), (11, 66), (13, 12), (30, 43), (22, 12), (11, 10), (10, 44), (33, 23), (22, 12), (22, 17)]\n"
     ]
    }
   ],
   "source": [
    "luchas = list(zip(gandalf,saruman))\n",
    "print(luchas)\n",
    "gana_gan =sum([1 for lucha in luchas if lucha[0]>lucha[1]])\n",
    "gana_sr =sum([1 for lucha in luchas if lucha[0]<lucha[1]])"
   ]
  },
  {
   "cell_type": "code",
   "execution_count": 3,
   "metadata": {},
   "outputs": [
    {
     "name": "stdout",
     "output_type": "stream",
     "text": [
      "Gandalf:  6\n",
      "Saruman:  4\n"
     ]
    }
   ],
   "source": [
    "print('Gandalf: ', gana_gan)\n",
    "print('Saruman: ', gana_sr)"
   ]
  },
  {
   "cell_type": "code",
   "execution_count": 4,
   "metadata": {},
   "outputs": [
    {
     "name": "stdout",
     "output_type": "stream",
     "text": [
      "Gandalf wins\n"
     ]
    }
   ],
   "source": [
    "if gana_gan>gana_sr:\n",
    "  print('Gandalf wins') \n",
    "elif gana_gan==gana_sr:\n",
    "  print(\"It's a tie\") \n",
    "else:\n",
    "  print('Saruman wins')"
   ]
  },
  {
   "cell_type": "code",
   "execution_count": 5,
   "metadata": {},
   "outputs": [],
   "source": [
    "#BONUS\n",
    "\n",
    "POWER = {\n",
    "    'Fireball': 50, \n",
    "    'Lightning bolt': 40, \n",
    "    'Magic arrow': 10, \n",
    "    'Black Tentacles': 25, \n",
    "    'Contagion': 45\n",
    "}\n",
    "\n",
    "gandalf = ['Fireball', 'Lightning bolt', 'Lightning bolt', \n",
    "           'Magic arrow', 'Fireball', 'Magic arrow', 'Lightning bolt', \n",
    "           'Fireball', 'Magic arrow', 'Fireball']\n",
    "saruman = ['Contagion', 'Contagion', 'Black Tentacles', 'Fireball', \n",
    "           'Black Tentacles','Lightning bolt','Magic arrow', 'Contagion', \n",
    "           'Magic arrow', 'Magic arrow']"
   ]
  },
  {
   "cell_type": "code",
   "execution_count": 6,
   "metadata": {},
   "outputs": [],
   "source": [
    "gan=[POWER[spell] for spell in gandalf if spell in POWER]\n",
    "sar=[POWER[hechizo] for hechizo in saruman if hechizo in POWER]"
   ]
  },
  {
   "cell_type": "code",
   "execution_count": 7,
   "metadata": {},
   "outputs": [
    {
     "name": "stdout",
     "output_type": "stream",
     "text": [
      "Gandalf:  [50, 40, 40, 10, 50, 10, 40, 50, 10, 50]\n",
      "Saruman:  [45, 45, 25, 50, 25, 40, 10, 45, 10, 10]\n"
     ]
    }
   ],
   "source": [
    "print('Gandalf: ', gan)\n",
    "print('Saruman: ', sar)"
   ]
  },
  {
   "cell_type": "code",
   "execution_count": 17,
   "metadata": {},
   "outputs": [
    {
     "name": "stdout",
     "output_type": "stream",
     "text": [
      "Victorias: ['G', 'S', 'G', 'S', 'G', 'S', 'G', 'G', 'G']\n"
     ]
    }
   ],
   "source": [
    "batallas = list(zip(gan,sar))\n",
    "\n",
    "batallas02= [] \n",
    "for batalla in batallas:\n",
    "  if batalla[0]>batalla[1]:\n",
    "    batallas02.append(\"G\")\n",
    "  if batalla[0]<batalla[1]: \n",
    "    batallas02.append(\"S\")\n",
    "\n",
    "\n",
    "print('Victorias:',batallas02)"
   ]
  },
  {
   "cell_type": "code",
   "execution_count": null,
   "metadata": {},
   "outputs": [],
   "source": []
  },
  {
   "cell_type": "code",
   "execution_count": 14,
   "metadata": {},
   "outputs": [
    {
     "name": "stdout",
     "output_type": "stream",
     "text": [
      "Gandalf wins again!\n"
     ]
    }
   ],
   "source": [
    "result=list(zip(batallas02, batallas02[1::],batallas02[2::]))\n",
    "\n",
    "for i,j,k in result:\n",
    "  if i==j==k:\n",
    "    if i==('G'):\n",
    "        print('Gandalf wins again!')"
   ]
  },
  {
   "cell_type": "code",
   "execution_count": 18,
   "metadata": {},
   "outputs": [
    {
     "name": "stdout",
     "output_type": "stream",
     "text": [
      "La media de hechizos de Gandalf es 35.0\n",
      "La media de hechizos de Saruman es 30.5\n"
     ]
    }
   ],
   "source": [
    "print('La media de hechizos de Gandalf es', sum(gan)/len(gan))\n",
    "print('La media de hechizos de Saruman es', sum(sar)/len(sar))"
   ]
  },
  {
   "cell_type": "code",
   "execution_count": 20,
   "metadata": {},
   "outputs": [
    {
     "name": "stdout",
     "output_type": "stream",
     "text": [
      "La Standard deviation de Gandalf es 16.881943016134134\n",
      "La Standard deviation de Saruman es 15.56438241627338\n"
     ]
    }
   ],
   "source": [
    "import numpy as np \n",
    "\n",
    "std_gan = np.std(gan)\n",
    "print('La Standard deviation de Gandalf es',std_gan)\n",
    "std_sar = np.std(sar)\n",
    "print('La Standard deviation de Saruman es',std_sar)\n"
   ]
  },
  {
   "cell_type": "code",
   "execution_count": null,
   "metadata": {},
   "outputs": [],
   "source": []
  },
  {
   "cell_type": "code",
   "execution_count": null,
   "metadata": {},
   "outputs": [],
   "source": []
  }
 ],
 "metadata": {
  "kernelspec": {
   "display_name": "Python 3",
   "language": "python",
   "name": "python3"
  },
  "language_info": {
   "codemirror_mode": {
    "name": "ipython",
    "version": 3
   },
   "file_extension": ".py",
   "mimetype": "text/x-python",
   "name": "python",
   "nbconvert_exporter": "python",
   "pygments_lexer": "ipython3",
   "version": "3.5.2"
  }
 },
 "nbformat": 4,
 "nbformat_minor": 2
}
