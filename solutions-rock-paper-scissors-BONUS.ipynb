{
 "cells": [
  {
   "cell_type": "code",
   "execution_count": 1,
   "metadata": {},
   "outputs": [],
   "source": [
    "import random\n",
    "game=['piedra','papel','tijera','lagarto','spock']"
   ]
  },
  {
   "cell_type": "code",
   "execution_count": 2,
   "metadata": {},
   "outputs": [],
   "source": [
    "def skynet():\n",
    "    return random.choice(game)"
   ]
  },
  {
   "cell_type": "code",
   "execution_count": 7,
   "metadata": {},
   "outputs": [
    {
     "name": "stdout",
     "output_type": "stream",
     "text": [
      "tijera\n"
     ]
    }
   ],
   "source": [
    "#print(skynet())"
   ]
  },
  {
   "cell_type": "code",
   "execution_count": 3,
   "metadata": {},
   "outputs": [],
   "source": [
    "def human_player():\n",
    "    player2 = (input('\\n >>> ¿Piedra, papel, tijera, lagarto, Spock? ')).lower()\n",
    "    while player2 not in game:\n",
    "        print('Introduce correctamenta una de las opciones')\n",
    "        player2 = (input('\\n >>> ¿Piedra, papel, tijera, lagarto, Spock? ')).lower()\n",
    "    return player2"
   ]
  },
  {
   "cell_type": "code",
   "execution_count": 8,
   "metadata": {},
   "outputs": [
    {
     "name": "stdout",
     "output_type": "stream",
     "text": [
      "\n",
      " >>> ¿Piedra, papel, tijera, lagarto, Spock? spock\n",
      "spock\n"
     ]
    }
   ],
   "source": [
    "#print(human_player())"
   ]
  },
  {
   "cell_type": "code",
   "execution_count": 10,
   "metadata": {},
   "outputs": [],
   "source": [
    "#funcion del numero de partidas\n",
    "def num_juegos():\n",
    "    maximo_juegos = int(input('\\n ¿Cuántas partidas quieres jugar? Deber ser un número impar: '))\n",
    "    while maximo_juegos%2==0:\n",
    "        print('¡Eso no es un número par, cabeza de chorlito!')\n",
    "        maximo_juegos = int(input('\\n ¿Cuántas partidas quieres jugar? Deber ser un número impar: '))\n",
    "    return maximo_juegos"
   ]
  },
  {
   "cell_type": "code",
   "execution_count": 11,
   "metadata": {},
   "outputs": [
    {
     "name": "stdout",
     "output_type": "stream",
     "text": [
      "\n",
      " ¿Cuántas partidas quieres jugar? Deber ser un número impar: 2\n",
      "¡Eso no es un número par, cabeza de chorlito!\n",
      "\n",
      " ¿Cuántas partidas quieres jugar? Deber ser un número impar: 6\n",
      "¡Eso no es un número par, cabeza de chorlito!\n",
      "\n",
      " ¿Cuántas partidas quieres jugar? Deber ser un número impar: 3\n",
      "3\n"
     ]
    }
   ],
   "source": [
    "#print(num_juegos())"
   ]
  },
  {
   "cell_type": "code",
   "execution_count": 29,
   "metadata": {},
   "outputs": [],
   "source": [
    "def partida():\n",
    "    max_juegos= num_juegos()\n",
    "    skynetscore = 0\n",
    "    humanoscore = 0 \n",
    "    min_juegos = 1\n",
    "    juegos = 0 \n",
    "    x= '¡Minipunto para Skynet!'\n",
    "    y= '¡Minipunto para el humano!'\n",
    "    def comovan():\n",
    "        print('Skynet %s - Humano %s' % (skynetscore,humanoscore))\n",
    "       \n",
    "    while max_juegos>juegos:\n",
    "        a = human_player()\n",
    "        b = skynet()\n",
    "        print('HUMANO: ', a)\n",
    "        print('SKYNET: ', b)\n",
    "        juegos +=1\n",
    "        \n",
    "        if a == b:\n",
    "            print('¡Empate!')          \n",
    "\n",
    "        elif a=='spock': \n",
    "            if b=='papel':\n",
    "                print(x)\n",
    "                skynetscore +=1           \n",
    "            elif b=='piedra':\n",
    "                print(y)\n",
    "                humanoscore +=1  \n",
    "            elif b=='lagarto':\n",
    "                print(x)\n",
    "                skynetscore +=1     \n",
    "            elif b=='tijera':\n",
    "                print(y)\n",
    "                humanoscore +=1              \n",
    "\n",
    "        elif a=='tijera': \n",
    "            if b=='papel':\n",
    "                print(y)\n",
    "                humanoscore +=1            \n",
    "            elif b=='piedra':\n",
    "                print(x)\n",
    "                skynetscore +=1\n",
    "            elif b=='lagarto':\n",
    "                print(y)\n",
    "                humanoscore +=1  \n",
    "            elif b=='spock':\n",
    "                print(x)\n",
    "                skynetscore +=1            \n",
    "\n",
    "        elif a=='papel':\n",
    "            if b=='piedra':\n",
    "                print(y)\n",
    "                humanoscore +=1            \n",
    "            elif b=='tijera':\n",
    "                print(x)\n",
    "                skynetscore +=1\n",
    "            elif b=='lagarto':\n",
    "                print(x)\n",
    "                skynetscore +=1\n",
    "            elif b=='spock':\n",
    "                print(y)\n",
    "                humanoscore +=1         \n",
    "            \n",
    "        elif a=='piedra':\n",
    "            if b=='tijera':\n",
    "                print(y)\n",
    "                humanoscore +=1            \n",
    "            elif b=='papel':\n",
    "                print(x)\n",
    "                skynetscore +=1\n",
    "            elif b=='lagarto':\n",
    "                print(y)\n",
    "                humanoscore +=1 \n",
    "            elif b=='spock':\n",
    "                print(x)\n",
    "                skynetscore +=1\n",
    "           \n",
    "        elif a=='lagarto':\n",
    "            if b=='tijera':\n",
    "                print(x)\n",
    "                skynetscore +=1           \n",
    "            elif b=='papel':\n",
    "                print(y)\n",
    "                humanoscore +=1\n",
    "            elif b=='spock':\n",
    "                print(y)\n",
    "                humanoscore +=1                    \n",
    "            elif b=='piedra':\n",
    "                print(x)\n",
    "                skynetscore +=1\n",
    "        res=comovan()  \n",
    "\n",
    "    if skynetscore > humanoscore and skynetscore>min_juegos:\n",
    "            return 1\n",
    "    elif skynetscore < humanoscore and humanoscore>min_juegos:\n",
    "            return 2\n",
    "    elif skynetscore == humanoscore:\n",
    "            return 0"
   ]
  },
  {
   "cell_type": "code",
   "execution_count": 24,
   "metadata": {},
   "outputs": [
    {
     "name": "stdout",
     "output_type": "stream",
     "text": [
      "\n",
      " ¿Cuántas partidas quieres jugar? Deber ser un número impar: 3\n",
      "\n",
      " >>> ¿Piedra, papel, tijera, lagarto, Spock? spock\n",
      "HUMANO:  spock\n",
      "SKYNET:  lagarto\n",
      "¡Minipunto para Skynet!\n",
      "Skynet 1 - Humano 0\n",
      "\n",
      " >>> ¿Piedra, papel, tijera, lagarto, Spock? tijera\n",
      "HUMANO:  tijera\n",
      "SKYNET:  spock\n",
      "¡Minipunto para Skynet!\n",
      "Skynet 2 - Humano 0\n",
      "\n",
      " >>> ¿Piedra, papel, tijera, lagarto, Spock? papel\n",
      "HUMANO:  papel\n",
      "SKYNET:  lagarto\n",
      "¡Minipunto para Skynet!\n",
      "Skynet 3 - Humano 0\n",
      "s\n"
     ]
    }
   ],
   "source": [
    "#partida()"
   ]
  },
  {
   "cell_type": "markdown",
   "metadata": {},
   "source": [
    "def resultado():\n",
    "    ganador = partida() \n",
    "    ac = \"Skynet ha ganado ¡Es el día del juicio final!\"\n",
    "    ba = \"El humano ha ganado\"\n",
    "    ce = \"Ha habido un empate, menudo bluf\"\n",
    "    if ganador == 'h':\n",
    "        print(ba)\n",
    "    elif ganador == 's':\n",
    "        print(ac)\n",
    "    else:\n",
    "        print(ce) "
   ]
  },
  {
   "cell_type": "code",
   "execution_count": 26,
   "metadata": {},
   "outputs": [],
   "source": [
    "def resultado():\n",
    "    ganador = partida() \n",
    "    ac = \"Skynet ha ganado ¡Es el día del juicio final!\"\n",
    "    ba = \"El humano ha ganado.\"\n",
    "    ce = \"Ha habido un empate, menudo bluf\"\n",
    "    if ganador == 2:\n",
    "        print(ba)\n",
    "    elif ganador == 1:\n",
    "        print(ac)\n",
    "    else:\n",
    "        print(ce) "
   ]
  },
  {
   "cell_type": "code",
   "execution_count": 30,
   "metadata": {},
   "outputs": [
    {
     "name": "stdout",
     "output_type": "stream",
     "text": [
      "\n",
      " ¿Cuántas partidas quieres jugar? Deber ser un número impar: 3\n",
      "\n",
      " >>> ¿Piedra, papel, tijera, lagarto, Spock? piedra\n",
      "HUMANO:  piedra\n",
      "SKYNET:  tijera\n",
      "¡Minipunto para el humano!\n",
      "Skynet 0 - Humano 1\n",
      "\n",
      " >>> ¿Piedra, papel, tijera, lagarto, Spock? papel\n",
      "HUMANO:  papel\n",
      "SKYNET:  spock\n",
      "¡Minipunto para el humano!\n",
      "Skynet 0 - Humano 2\n",
      "\n",
      " >>> ¿Piedra, papel, tijera, lagarto, Spock? tijera\n",
      "HUMANO:  tijera\n",
      "SKYNET:  lagarto\n",
      "¡Minipunto para el humano!\n",
      "Skynet 0 - Humano 3\n",
      "El humano ha ganado\n"
     ]
    }
   ],
   "source": [
    "resultado()"
   ]
  },
  {
   "cell_type": "code",
   "execution_count": null,
   "metadata": {},
   "outputs": [],
   "source": []
  }
 ],
 "metadata": {
  "kernelspec": {
   "display_name": "Python 3",
   "language": "python",
   "name": "python3"
  },
  "language_info": {
   "codemirror_mode": {
    "name": "ipython",
    "version": 3
   },
   "file_extension": ".py",
   "mimetype": "text/x-python",
   "name": "python",
   "nbconvert_exporter": "python",
   "pygments_lexer": "ipython3",
   "version": "3.5.2"
  }
 },
 "nbformat": 4,
 "nbformat_minor": 2
}
