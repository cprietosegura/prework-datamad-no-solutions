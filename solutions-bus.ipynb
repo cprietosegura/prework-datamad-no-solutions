{
 "cells": [
  {
   "cell_type": "code",
   "execution_count": 1,
   "metadata": {},
   "outputs": [],
   "source": [
    "stops = [(10, 0), (4, 1), (3, 5), (3, 4), (5, 1), (1, 5), (5, 8), (4, 6), (2, 3)]"
   ]
  },
  {
   "cell_type": "code",
   "execution_count": 2,
   "metadata": {},
   "outputs": [
    {
     "name": "stdout",
     "output_type": "stream",
     "text": [
      "El número de paradas es 9\n"
     ]
    }
   ],
   "source": [
    "num_stops=len(stops)\n",
    "print('El número de paradas es',num_stops)"
   ]
  },
  {
   "cell_type": "code",
   "execution_count": 3,
   "metadata": {},
   "outputs": [],
   "source": [
    "bus=[]\n",
    "paradas=[]\n",
    "pasajeros_acumulados = []\n",
    "for s in stops: #convierto los tuples en listas para que tengan index\n",
    "  ss=list(s)\n",
    "  paradas.append(ss)\n"
   ]
  },
  {
   "cell_type": "code",
   "execution_count": 4,
   "metadata": {},
   "outputs": [
    {
     "name": "stdout",
     "output_type": "stream",
     "text": [
      "Estas son las personas en movimiento por parada: [10, 3, -2, -1, 4, -4, -3, -2, -1]\n"
     ]
    }
   ],
   "source": [
    "for mov in paradas:\n",
    "  bus.append(mov[0]- mov[1] )\n",
    "print('Estas son las personas en movimiento por parada:',bus)"
   ]
  },
  {
   "cell_type": "code",
   "execution_count": 5,
   "metadata": {},
   "outputs": [
    {
     "name": "stdout",
     "output_type": "stream",
     "text": [
      "Estos son los pasajeros que hay en cada parada: [10, 13, 11, 10, 14, 10, 7, 5, 4]\n"
     ]
    }
   ],
   "source": [
    "for x in range(len(bus)):\n",
    "    if x==0:\n",
    "        pasajeros_acumulados.append(bus[x])\n",
    "    else:\n",
    "        pasajeros_acumulados.append(pasajeros_acumulados[x-1]+ bus[x])\n",
    "               \n",
    "print('Estos son los pasajeros que hay en cada parada:',pasajeros_acumulados)    \n",
    "    "
   ]
  },
  {
   "cell_type": "code",
   "execution_count": 6,
   "metadata": {},
   "outputs": [
    {
     "name": "stdout",
     "output_type": "stream",
     "text": [
      "El mayor número de pasajeros acumulados es 14\n"
     ]
    }
   ],
   "source": [
    "print('El mayor número de pasajeros acumulados es', max(pasajeros_acumulados))"
   ]
  },
  {
   "cell_type": "code",
   "execution_count": 7,
   "metadata": {},
   "outputs": [
    {
     "name": "stdout",
     "output_type": "stream",
     "text": [
      "La media de pasajeros es 9.333333333333334\n"
     ]
    }
   ],
   "source": [
    "print('La media de pasajeros es', sum(pasajeros_acumulados)/len(pasajeros_acumulados))"
   ]
  },
  {
   "cell_type": "code",
   "execution_count": 8,
   "metadata": {},
   "outputs": [
    {
     "name": "stdout",
     "output_type": "stream",
     "text": [
      "La Standard deviation es 3.197221015541813\n"
     ]
    }
   ],
   "source": [
    "import numpy as np \n",
    "\n",
    "std_gan = np.std(pasajeros_acumulados)\n",
    "print('La Standard deviation es',std_gan)"
   ]
  },
  {
   "cell_type": "code",
   "execution_count": null,
   "metadata": {},
   "outputs": [],
   "source": []
  }
 ],
 "metadata": {
  "kernelspec": {
   "display_name": "Python 3",
   "language": "python",
   "name": "python3"
  },
  "language_info": {
   "codemirror_mode": {
    "name": "ipython",
    "version": 3
   },
   "file_extension": ".py",
   "mimetype": "text/x-python",
   "name": "python",
   "nbconvert_exporter": "python",
   "pygments_lexer": "ipython3",
   "version": "3.5.2"
  }
 },
 "nbformat": 4,
 "nbformat_minor": 2
}
